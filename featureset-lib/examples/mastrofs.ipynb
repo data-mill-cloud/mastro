{
 "cells": [
  {
   "cell_type": "markdown",
   "id": "stopped-alliance",
   "metadata": {},
   "source": [
    "# Mastro Feature-store client example"
   ]
  },
  {
   "cell_type": "markdown",
   "id": "every-beauty",
   "metadata": {},
   "source": [
    "Firstly import the module:"
   ]
  },
  {
   "cell_type": "code",
   "execution_count": 1,
   "id": "armed-hollow",
   "metadata": {},
   "outputs": [],
   "source": [
    "from mastro_fs.client import MastroFeatureStoreClient\n",
    "from mastro_fs.dto import FeatureSet, Feature"
   ]
  },
  {
   "cell_type": "markdown",
   "id": "german-prayer",
   "metadata": {},
   "source": [
    "Then establish a connection with a feature store instance (e.g., localhost:8086). "
   ]
  },
  {
   "cell_type": "code",
   "execution_count": 2,
   "id": "viral-banks",
   "metadata": {},
   "outputs": [],
   "source": [
    "c = MastroFeatureStoreClient('127.0.0.1', 8086)"
   ]
  },
  {
   "cell_type": "markdown",
   "id": "flexible-equity",
   "metadata": {},
   "source": [
    "We suggest using the available docker compose file to quickly ramp up a test service. Alternatively, there exists a Helm chart shall you wish deploying Mastro to a K8s cluster."
   ]
  },
  {
   "cell_type": "markdown",
   "id": "forced-parent",
   "metadata": {},
   "source": [
    "## Creating Features"
   ]
  },
  {
   "cell_type": "code",
   "execution_count": 3,
   "id": "pending-charge",
   "metadata": {},
   "outputs": [],
   "source": [
    "f1 = Feature(name=\"feature1\", value=10, data_type=\"int\")\n",
    "f2 = Feature(name=\"feature2\", value=True, data_type=\"bool\")"
   ]
  },
  {
   "cell_type": "code",
   "execution_count": 4,
   "id": "sunset-loading",
   "metadata": {},
   "outputs": [],
   "source": [
    "fs = FeatureSet(\n",
    "    name=\"myfirstfeatureset\", \n",
    "    version=\"test-v1.0\", \n",
    "    description=\"\", \n",
    "    labels = {},\n",
    "    features = [f1, f2]\n",
    ")"
   ]
  },
  {
   "cell_type": "code",
   "execution_count": 5,
   "id": "mediterranean-growing",
   "metadata": {},
   "outputs": [
    {
     "data": {
      "text/plain": [
       "<mastro_fs.dto.FeatureSet at 0x10518d040>"
      ]
     },
     "execution_count": 5,
     "metadata": {},
     "output_type": "execute_result"
    }
   ],
   "source": [
    "c.create_featureset(fs)"
   ]
  },
  {
   "cell_type": "markdown",
   "id": "orange-uganda",
   "metadata": {},
   "source": [
    "## Retrieving Featuresets"
   ]
  },
  {
   "cell_type": "code",
   "execution_count": 6,
   "id": "piano-motion",
   "metadata": {},
   "outputs": [],
   "source": [
    "fs = c.get_featureset_by_name(\"mypipelinegeneratedfeatureset\")"
   ]
  },
  {
   "cell_type": "code",
   "execution_count": 11,
   "id": "civic-indonesian",
   "metadata": {},
   "outputs": [
    {
     "data": {
      "text/plain": [
       "[<mastro_fs.dto.FeatureSet at 0x105192f70>,\n",
       " <mastro_fs.dto.FeatureSet at 0x1051922e0>,\n",
       " <mastro_fs.dto.FeatureSet at 0x105182eb0>]"
      ]
     },
     "execution_count": 11,
     "metadata": {},
     "output_type": "execute_result"
    }
   ],
   "source": [
    "fs.data"
   ]
  },
  {
   "cell_type": "code",
   "execution_count": 13,
   "id": "tribal-filename",
   "metadata": {},
   "outputs": [
    {
     "name": "stdout",
     "output_type": "stream",
     "text": [
      "mypipelinegeneratedfeatureset test-v1.0\n",
      "mypipelinegeneratedfeatureset test-v1.0\n",
      "mypipelinegeneratedfeatureset test-v1.0\n"
     ]
    }
   ],
   "source": [
    "for f in fs.data:\n",
    "    print(f.name, f.version)"
   ]
  },
  {
   "cell_type": "markdown",
   "id": "ranking-jersey",
   "metadata": {},
   "source": [
    "List all is a debug-only method that can be used to return all feature sets in the store:"
   ]
  },
  {
   "cell_type": "code",
   "execution_count": 14,
   "id": "encouraging-turner",
   "metadata": {},
   "outputs": [
    {
     "data": {
      "text/plain": [
       "<mastro_fs.dto.PaginatedFeatureSets at 0x10518d160>"
      ]
     },
     "execution_count": 14,
     "metadata": {},
     "output_type": "execute_result"
    }
   ],
   "source": [
    "c.list_all(limit=10, page=1)"
   ]
  },
  {
   "cell_type": "markdown",
   "id": "difficult-seller",
   "metadata": {},
   "source": [
    "## Serializing Pandas Dataframes"
   ]
  },
  {
   "cell_type": "code",
   "execution_count": 15,
   "id": "intended-houston",
   "metadata": {},
   "outputs": [],
   "source": [
    "import pandas as pd\n",
    "df = pd.DataFrame(\n",
    "    [[\"a\", \"b\"], [\"c\", \"d\"]],\n",
    "    index=[\"row 1\", \"row 2\"],\n",
    "    columns=[\"col 1\", \"col 2\"],\n",
    ")"
   ]
  },
  {
   "cell_type": "code",
   "execution_count": 16,
   "id": "structural-detection",
   "metadata": {},
   "outputs": [
    {
     "data": {
      "text/plain": [
       "{'index': ['row 1', 'row 2'],\n",
       " 'columns': ['col 1', 'col 2'],\n",
       " 'data': [['a', 'b'], ['c', 'd']]}"
      ]
     },
     "execution_count": 16,
     "metadata": {},
     "output_type": "execute_result"
    }
   ],
   "source": [
    "df.to_dict('split')"
   ]
  },
  {
   "cell_type": "code",
   "execution_count": 17,
   "id": "ideal-presentation",
   "metadata": {},
   "outputs": [],
   "source": [
    "f3 = Feature(name=\"feature3\", value=df.to_dict('split'), data_type=\"pandas_dataframe\")"
   ]
  },
  {
   "cell_type": "code",
   "execution_count": 18,
   "id": "expired-hierarchy",
   "metadata": {},
   "outputs": [],
   "source": [
    "fs = FeatureSet(\n",
    "    name=\"myfirstfeatureset\", \n",
    "    version=\"test-v1.0\", \n",
    "    description=\"\", \n",
    "    labels = {\n",
    "        \"refers-to\" : \"project-gilberto\",\n",
    "        \"environment\" : \"test\"\n",
    "    },\n",
    "    features = [f3]\n",
    ")"
   ]
  },
  {
   "cell_type": "code",
   "execution_count": 19,
   "id": "small-skating",
   "metadata": {},
   "outputs": [
    {
     "data": {
      "text/plain": [
       "<mastro_fs.dto.FeatureSet at 0x10518d340>"
      ]
     },
     "execution_count": 19,
     "metadata": {},
     "output_type": "execute_result"
    }
   ],
   "source": [
    "c.create_featureset(fs)"
   ]
  },
  {
   "cell_type": "code",
   "execution_count": 20,
   "id": "posted-balloon",
   "metadata": {},
   "outputs": [],
   "source": [
    "assert c.get_featureset_by_name(\"myfirstfeatureset\") is not None"
   ]
  },
  {
   "cell_type": "code",
   "execution_count": null,
   "id": "fatal-cross",
   "metadata": {},
   "outputs": [],
   "source": []
  }
 ],
 "metadata": {
  "kernelspec": {
   "display_name": "Python (mastroenv)",
   "language": "python",
   "name": "mastroenv"
  },
  "language_info": {
   "codemirror_mode": {
    "name": "ipython",
    "version": 3
   },
   "file_extension": ".py",
   "mimetype": "text/x-python",
   "name": "python",
   "nbconvert_exporter": "python",
   "pygments_lexer": "ipython3",
   "version": "3.9.10"
  }
 },
 "nbformat": 4,
 "nbformat_minor": 5
}
